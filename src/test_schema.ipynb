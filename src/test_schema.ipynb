{
 "cells": [
  {
   "cell_type": "code",
   "execution_count": 1,
   "id": "0af7aa37",
   "metadata": {},
   "outputs": [],
   "source": [
    "from gluonts.dataset import schema"
   ]
  },
  {
   "cell_type": "code",
   "execution_count": 2,
   "id": "ae3f17cd",
   "metadata": {},
   "outputs": [],
   "source": [
    "fields = {}\n",
    "default_values = {}\n",
    "target_layout = {}\n",
    "\n",
    "fields[\"start\"] = schema.PandasPeriodField(freq=\"1D\")\n",
    "fields[\"target\"] = schema.NumpyArrayField(dtype=int, ndim=1)\n",
    "target_layout[\"target\"] = \"T\"\n",
    "fields[\"feat_static_cat\"] = schema.NumpyArrayField(dtype=int, ndim=1)\n",
    "target_layout[\"feat_static_cat\"] = \"C\"\n",
    "default_values[\"feat_static_cat\"] = [0.0]\n",
    "fields[\"feat_static_real\"] = schema.NumpyArrayField(dtype=int, ndim=1)\n",
    "target_layout[\"feat_static_real\"] = \"C\"\n",
    "default_values[\"feat_static_real\"] = [0.0]\n",
    "fields[\"feat_dynamic_real\"] = schema.NumpyArrayField(dtype=int, ndim=2)\n",
    "target_layout[\"feat_dynamic_real\"] = \"CT\"\n",
    "\n",
    "schema = schema.Schema(fields, default_values, target_layout)"
   ]
  },
  {
   "cell_type": "code",
   "execution_count": 3,
   "id": "250c802a",
   "metadata": {},
   "outputs": [
    {
     "name": "stdout",
     "output_type": "stream",
     "text": [
      "Schema(fields={'start': PandasPeriodField(freq=<Day>), 'target': NumpyArrayField(dtype=<class 'int'>, ndim=1), 'feat_static_cat': NumpyArrayField(dtype=<class 'int'>, ndim=1), 'feat_static_real': NumpyArrayField(dtype=<class 'int'>, ndim=1), 'feat_dynamic_real': NumpyArrayField(dtype=<class 'int'>, ndim=2)}, default_values={'feat_static_cat': [0.0], 'feat_static_real': [0.0]}, targert_layout={'target': 'T', 'feat_static_cat': 'C', 'feat_static_real': 'C', 'feat_dynamic_real': 'CT'})\n"
     ]
    }
   ],
   "source": [
    "print(schema)"
   ]
  },
  {
   "cell_type": "code",
   "execution_count": 4,
   "id": "bf8863df",
   "metadata": {},
   "outputs": [],
   "source": [
    "data = {\n",
    "    \"start\": \"2021-1-1\",\n",
    "    \"price\": [1.3, 2.4, 3.5, 7.6],\n",
    "    \"idx\": [5],\n",
    "    \"d_real1\": [2.2, 2.7, 3.4, 5.8],\n",
    "    \"d_real2\": [4.7, 3.8, 9.6, 7.9],\n",
    "}\n",
    "\n",
    "src_layout = {\n",
    "    \"price\": \"T\",\n",
    "    \"idx\": \"C\",\n",
    "    \"d_real1\": \"T\",\n",
    "    \"d_real2\": \"T\"\n",
    "}\n",
    "\n",
    "name_mapping = {\n",
    "    \"start\": \"start\",\n",
    "    \"target\": \"price\",\n",
    "    \"feat_static_cat\": \"idx\",\n",
    "    \"feat_dynamic_real\": [\"d_real1\", \"d_real2\"]\n",
    "    \n",
    "}"
   ]
  },
  {
   "cell_type": "code",
   "execution_count": 5,
   "id": "59466574",
   "metadata": {},
   "outputs": [],
   "source": [
    "new_data = schema(data, False, src_layout, name_mapping)"
   ]
  },
  {
   "cell_type": "code",
   "execution_count": 6,
   "id": "bcd114c1",
   "metadata": {},
   "outputs": [
    {
     "name": "stdout",
     "output_type": "stream",
     "text": [
      "{'start': Period('2021-01-01', 'D'), 'target': array([1, 2, 3, 7]), 'feat_static_cat': array([5]), 'feat_static_real': array([0]), 'feat_dynamic_real': array([[2, 2, 3, 5],\n",
      "       [4, 3, 9, 7]])}\n"
     ]
    }
   ],
   "source": [
    "print(new_data)"
   ]
  },
  {
   "cell_type": "code",
   "execution_count": null,
   "id": "526b7d94",
   "metadata": {},
   "outputs": [],
   "source": []
  }
 ],
 "metadata": {
  "kernelspec": {
   "display_name": "Python 3 (ipykernel)",
   "language": "python",
   "name": "python3"
  },
  "language_info": {
   "codemirror_mode": {
    "name": "ipython",
    "version": 3
   },
   "file_extension": ".py",
   "mimetype": "text/x-python",
   "name": "python",
   "nbconvert_exporter": "python",
   "pygments_lexer": "ipython3",
   "version": "3.8.9"
  }
 },
 "nbformat": 4,
 "nbformat_minor": 5
}
